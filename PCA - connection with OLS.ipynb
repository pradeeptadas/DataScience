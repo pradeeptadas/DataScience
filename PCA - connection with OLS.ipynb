{
 "cells": [
  {
   "cell_type": "code",
   "execution_count": 1,
   "metadata": {},
   "outputs": [],
   "source": [
    "A = [-0.066, -0.204,  \n",
    "              -0.124, -0.079, \n",
    "              0.259, 0.565,\n",
    "              0.289, 0.607,\n",
    "              -0.318, -0.425,\n",
    "              -0.015, -0.135,\n",
    "              -0.060, 0.011,\n",
    "              0.140, 0.411,\n",
    "              0.203, 0.350,\n",
    "              0.249, 0.535,\n",
    "            -0.229, -0.668,\n",
    "              0.174, 0.128,\n",
    "              0.149,0.317,\n",
    "              -0.343, -0.543,\n",
    "              -0.308, -0.870]"
   ]
  },
  {
   "cell_type": "code",
   "execution_count": 15,
   "metadata": {
    "scrolled": true
   },
   "outputs": [],
   "source": [
    "import pandas as pd\n",
    "import numpy as np\n",
    "import matplotlib.pyplot as plt\n",
    "%matplotlib inline\n",
    "df = pd.DataFrame(np.array(A).reshape((15,2)), columns = list(\"xy\"))"
   ]
  },
  {
   "cell_type": "code",
   "execution_count": 18,
   "metadata": {},
   "outputs": [
    {
     "data": {
      "text/html": [
       "<div>\n",
       "<style scoped>\n",
       "    .dataframe tbody tr th:only-of-type {\n",
       "        vertical-align: middle;\n",
       "    }\n",
       "\n",
       "    .dataframe tbody tr th {\n",
       "        vertical-align: top;\n",
       "    }\n",
       "\n",
       "    .dataframe thead th {\n",
       "        text-align: right;\n",
       "    }\n",
       "</style>\n",
       "<table border=\"1\" class=\"dataframe\">\n",
       "  <thead>\n",
       "    <tr style=\"text-align: right;\">\n",
       "      <th></th>\n",
       "      <th>x</th>\n",
       "      <th>y</th>\n",
       "    </tr>\n",
       "  </thead>\n",
       "  <tbody>\n",
       "    <tr>\n",
       "      <th>0</th>\n",
       "      <td>-0.066</td>\n",
       "      <td>-0.204</td>\n",
       "    </tr>\n",
       "    <tr>\n",
       "      <th>1</th>\n",
       "      <td>-0.124</td>\n",
       "      <td>-0.079</td>\n",
       "    </tr>\n",
       "    <tr>\n",
       "      <th>2</th>\n",
       "      <td>0.259</td>\n",
       "      <td>0.565</td>\n",
       "    </tr>\n",
       "    <tr>\n",
       "      <th>3</th>\n",
       "      <td>0.289</td>\n",
       "      <td>0.607</td>\n",
       "    </tr>\n",
       "    <tr>\n",
       "      <th>4</th>\n",
       "      <td>-0.318</td>\n",
       "      <td>-0.425</td>\n",
       "    </tr>\n",
       "    <tr>\n",
       "      <th>5</th>\n",
       "      <td>-0.015</td>\n",
       "      <td>-0.135</td>\n",
       "    </tr>\n",
       "    <tr>\n",
       "      <th>6</th>\n",
       "      <td>-0.060</td>\n",
       "      <td>0.011</td>\n",
       "    </tr>\n",
       "    <tr>\n",
       "      <th>7</th>\n",
       "      <td>0.140</td>\n",
       "      <td>0.411</td>\n",
       "    </tr>\n",
       "    <tr>\n",
       "      <th>8</th>\n",
       "      <td>0.203</td>\n",
       "      <td>0.350</td>\n",
       "    </tr>\n",
       "    <tr>\n",
       "      <th>9</th>\n",
       "      <td>0.249</td>\n",
       "      <td>0.535</td>\n",
       "    </tr>\n",
       "    <tr>\n",
       "      <th>10</th>\n",
       "      <td>-0.229</td>\n",
       "      <td>-0.668</td>\n",
       "    </tr>\n",
       "    <tr>\n",
       "      <th>11</th>\n",
       "      <td>0.174</td>\n",
       "      <td>0.128</td>\n",
       "    </tr>\n",
       "    <tr>\n",
       "      <th>12</th>\n",
       "      <td>0.149</td>\n",
       "      <td>0.317</td>\n",
       "    </tr>\n",
       "    <tr>\n",
       "      <th>13</th>\n",
       "      <td>-0.343</td>\n",
       "      <td>-0.543</td>\n",
       "    </tr>\n",
       "    <tr>\n",
       "      <th>14</th>\n",
       "      <td>-0.308</td>\n",
       "      <td>-0.870</td>\n",
       "    </tr>\n",
       "  </tbody>\n",
       "</table>\n",
       "</div>"
      ],
      "text/plain": [
       "        x      y\n",
       "0  -0.066 -0.204\n",
       "1  -0.124 -0.079\n",
       "2   0.259  0.565\n",
       "3   0.289  0.607\n",
       "4  -0.318 -0.425\n",
       "5  -0.015 -0.135\n",
       "6  -0.060  0.011\n",
       "7   0.140  0.411\n",
       "8   0.203  0.350\n",
       "9   0.249  0.535\n",
       "10 -0.229 -0.668\n",
       "11  0.174  0.128\n",
       "12  0.149  0.317\n",
       "13 -0.343 -0.543\n",
       "14 -0.308 -0.870"
      ]
     },
     "execution_count": 18,
     "metadata": {},
     "output_type": "execute_result"
    }
   ],
   "source": [
    "df"
   ]
  },
  {
   "cell_type": "code",
   "execution_count": 20,
   "metadata": {},
   "outputs": [
    {
     "data": {
      "text/plain": [
       "<matplotlib.collections.PathCollection at 0x2ced6c45548>"
      ]
     },
     "execution_count": 20,
     "metadata": {},
     "output_type": "execute_result"
    },
    {
     "data": {
      "image/png": "[encoded data removed]",
      "text/plain": [
       "<Figure size 432x288 with 1 Axes>"
      ]
     },
     "metadata": {
      "needs_background": "light"
     },
     "output_type": "display_data"
    }
   ],
   "source": [
    "plt.scatter(df.x, df.y)"
   ]
  },
  {
   "cell_type": "code",
   "execution_count": 21,
   "metadata": {},
   "outputs": [],
   "source": [
    "from sklearn.decomposition import PCA\n",
    "pca = PCA(n_components=1)\n",
    "principalComponents_breast = pca.fit_transform(df)"
   ]
  },
  {
   "cell_type": "code",
   "execution_count": 22,
   "metadata": {},
   "outputs": [
    {
     "data": {
      "text/plain": [
       "array([[ 0.21285572],\n",
       "       [ 0.12377192],\n",
       "       [-0.62153119],\n",
       "       [-0.6722469 ],\n",
       "       [ 0.5192543 ],\n",
       "       [ 0.1288171 ],\n",
       "       [ 0.01521539],\n",
       "       [-0.43179383],\n",
       "       [-0.40289227],\n",
       "       [-0.59010536],\n",
       "       [ 0.70240838],\n",
       "       [-0.18923982],\n",
       "       [-0.35026508],\n",
       "       [ 0.63684298],\n",
       "       [ 0.91890866]])"
      ]
     },
     "execution_count": 22,
     "metadata": {},
     "output_type": "execute_result"
    }
   ],
   "source": [
    "principalComponents_breast"
   ]
  },
  {
   "cell_type": "code",
   "execution_count": 24,
   "metadata": {},
   "outputs": [
    {
     "data": {
      "text/plain": [
       "15"
      ]
     },
     "execution_count": 24,
     "metadata": {},
     "output_type": "execute_result"
    }
   ],
   "source": [
    "len(principalComponents_breast)"
   ]
  },
  {
   "cell_type": "code",
   "execution_count": 25,
   "metadata": {
    "scrolled": true
   },
   "outputs": [
    {
     "data": {
      "text/html": [
       "<div>\n",
       "<style scoped>\n",
       "    .dataframe tbody tr th:only-of-type {\n",
       "        vertical-align: middle;\n",
       "    }\n",
       "\n",
       "    .dataframe tbody tr th {\n",
       "        vertical-align: top;\n",
       "    }\n",
       "\n",
       "    .dataframe thead th {\n",
       "        text-align: right;\n",
       "    }\n",
       "</style>\n",
       "<table border=\"1\" class=\"dataframe\">\n",
       "  <thead>\n",
       "    <tr style=\"text-align: right;\">\n",
       "      <th></th>\n",
       "      <th>x</th>\n",
       "      <th>y</th>\n",
       "    </tr>\n",
       "  </thead>\n",
       "  <tbody>\n",
       "    <tr>\n",
       "      <th>x</th>\n",
       "      <td>0.715524</td>\n",
       "      <td>1.420024</td>\n",
       "    </tr>\n",
       "    <tr>\n",
       "      <th>y</th>\n",
       "      <td>1.420024</td>\n",
       "      <td>3.126994</td>\n",
       "    </tr>\n",
       "  </tbody>\n",
       "</table>\n",
       "</div>"
      ],
      "text/plain": [
       "          x         y\n",
       "x  0.715524  1.420024\n",
       "y  1.420024  3.126994"
      ]
     },
     "execution_count": 25,
     "metadata": {},
     "output_type": "execute_result"
    }
   ],
   "source": [
    "df.T@df"
   ]
  },
  {
   "cell_type": "code",
   "execution_count": 27,
   "metadata": {
    "scrolled": true
   },
   "outputs": [
    {
     "data": {
      "text/plain": [
       "(array([[-1.09421501e-01,  1.06670169e-01,  3.17664402e-01,\n",
       "          3.45565406e-01, -2.88087242e-01, -5.71993848e-02,\n",
       "         -1.97612718e-02,  2.11770560e-01,  2.13759744e-01,\n",
       "          3.02294049e-01, -3.44772942e-01,  1.17969937e-01,\n",
       "          1.79699362e-01, -3.42826300e-01, -4.52920567e-01],\n",
       "        [-6.36267090e-02, -3.28397191e-01, -1.12403328e-02,\n",
       "          2.84350410e-02, -4.55866154e-01,  1.79420717e-01,\n",
       "         -2.45399418e-01, -1.90642613e-01,  1.53459478e-01,\n",
       "          3.50063429e-03,  3.04358413e-01,  4.32172181e-01,\n",
       "          7.58408532e-03, -3.43854865e-01,  3.59636228e-01],\n",
       "        [ 3.19506915e-01, -9.23568240e-03,  9.07527399e-01,\n",
       "         -9.89158385e-02,  6.46209980e-02,  2.39747928e-02,\n",
       "         -4.40783730e-03, -6.92081987e-02, -5.55778252e-02,\n",
       "         -8.74121293e-02,  1.12425945e-01, -1.63263293e-02,\n",
       "         -5.17351316e-02,  8.51001295e-02,  1.46032085e-01],\n",
       "        [ 3.45578046e-01,  3.04388449e-02, -1.01441999e-01,\n",
       "          8.90220416e-01,  8.54381367e-02,  2.07623543e-02,\n",
       "          2.84720150e-03, -7.02036047e-02, -6.59953450e-02,\n",
       "         -9.63338835e-02,  1.14210261e-01, -3.15315382e-02,\n",
       "         -5.71884443e-02,  1.04467402e-01,  1.49469862e-01],\n",
       "        [-2.66930029e-01, -4.55656381e-01,  9.35749125e-02,\n",
       "          1.14644168e-01,  7.67851046e-01,  3.92125133e-02,\n",
       "         -8.35944622e-02,  4.50183024e-03,  1.13854929e-01,\n",
       "          9.35338822e-02, -9.23078433e-03,  1.72647029e-01,\n",
       "          5.73405477e-02, -2.13487257e-01, -2.48281689e-02],\n",
       "        [-6.62202573e-02,  1.78287922e-01,  1.29540413e-02,\n",
       "          8.31876517e-03,  5.44206511e-02,  9.72481672e-01,\n",
       "          3.41338573e-02,  3.46382962e-02, -1.41442585e-02,\n",
       "          1.03116294e-02, -5.55385724e-02, -5.71393181e-02,\n",
       "          5.34846796e-03,  3.65607042e-02, -6.72534618e-02],\n",
       "        [-7.82168428e-03, -2.44453376e-01,  1.08810111e-02,\n",
       "          1.93217480e-02, -9.56586279e-02,  3.06953329e-02,\n",
       "          9.54022109e-01, -2.64596823e-02,  3.69625550e-02,\n",
       "          1.29678815e-02,  4.19700476e-02,  8.43620200e-02,\n",
       "          8.72178232e-03, -7.72714945e-02,  4.77365906e-02],\n",
       "        [ 2.21969739e-01, -1.88509354e-01, -5.78300737e-02,\n",
       "         -5.61420578e-02, -2.51189874e-02,  3.99364943e-02,\n",
       "         -3.73597837e-02,  9.30966811e-01, -1.21159788e-02,\n",
       "         -5.26691664e-02,  1.11388027e-01,  5.11433525e-02,\n",
       "         -3.03934372e-02,  3.16540009e-03,  1.39638865e-01],\n",
       "        [ 2.07112481e-01,  1.54107834e-01, -6.55813725e-02,\n",
       "         -7.51776403e-02,  1.03443668e-01, -4.92701623e-03,\n",
       "          2.72968276e-02, -2.64412915e-02,  9.40678542e-01,\n",
       "         -6.37475499e-02,  4.36153960e-02, -6.55199973e-02,\n",
       "         -3.84140403e-02,  1.04359966e-01,  6.10883863e-02],\n",
       "        [ 3.03352020e-01,  5.34651874e-03, -8.82941222e-02,\n",
       "         -9.48894120e-02,  6.67807897e-02,  2.09579499e-02,\n",
       "         -1.52634122e-03, -6.40847345e-02, -5.48215317e-02,\n",
       "          9.16382947e-01,  1.04161501e-01, -2.03445119e-02,\n",
       "         -4.95493872e-02,  8.51348058e-02,  1.35688324e-01],\n",
       "        [-3.61082981e-01,  3.00911542e-01,  9.42756121e-02,\n",
       "          9.17240171e-02,  3.86543598e-02, -6.42316113e-02,\n",
       "          5.96926973e-02,  1.11637231e-01,  2.05446240e-02,\n",
       "          8.59321214e-02,  8.19851966e-01, -8.12260619e-02,\n",
       "          4.96165793e-02, -6.91330166e-03, -2.25949686e-01],\n",
       "        [ 9.72814131e-02,  4.31018148e-01, -4.34342991e-02,\n",
       "         -6.00823154e-02,  1.86478509e-01, -4.81654559e-02,\n",
       "          8.03705859e-02,  2.88464045e-02, -8.00462546e-02,\n",
       "         -4.58133062e-02, -4.50643513e-02,  8.46159207e-01,\n",
       "         -2.89706045e-02,  1.59223562e-01, -4.65152506e-02],\n",
       "        [ 1.80058726e-01,  8.65743191e-03, -5.26013152e-02,\n",
       "         -5.67016840e-02,  4.17471621e-02,  1.17387564e-02,\n",
       "          1.26927518e-04, -3.74073613e-02, -3.33380046e-02,\n",
       "         -4.98747261e-02,  6.08241302e-02, -1.39575869e-02,\n",
       "          9.70422193e-01,  5.22180964e-02,  7.93896231e-02],\n",
       "        [-3.27378159e-01, -3.44469449e-01,  1.07215686e-01,\n",
       "          1.25799150e-01, -2.02296348e-01,  2.06848313e-02,\n",
       "         -6.21473958e-02,  3.01880829e-02,  1.08445840e-01,\n",
       "          1.05228436e-01, -5.05041387e-02,  1.38181374e-01,\n",
       "          6.37938378e-02,  8.04042474e-01, -7.54067513e-02],\n",
       "        [-4.72378018e-01,  3.55283023e-01,  1.24685360e-01,\n",
       "          1.22646460e-01,  3.58130062e-02, -7.91229234e-02,\n",
       "          7.08631112e-02,  1.41630837e-01,  3.24610588e-02,\n",
       "          1.14116940e-01, -2.28659734e-01, -9.30927986e-02,\n",
       "          6.60790183e-02, -2.08371823e-02,  7.12454870e-01]]),\n",
       " array([1.94528243, 0.24164904]),\n",
       " array([[ 0.41997158,  0.90753726],\n",
       "        [ 0.90753726, -0.41997158]]))"
      ]
     },
     "execution_count": 27,
     "metadata": {},
     "output_type": "execute_result"
    }
   ],
   "source": [
    "np.linalg.svd(df)"
   ]
  },
  {
   "cell_type": "code",
   "execution_count": 29,
   "metadata": {},
   "outputs": [],
   "source": [
    "U,S,V = np.linalg.svd(df.T@df)"
   ]
  },
  {
   "cell_type": "code",
   "execution_count": 30,
   "metadata": {},
   "outputs": [
    {
     "data": {
      "text/plain": [
       "array([[-0.41997158, -0.90753726],\n",
       "       [-0.90753726,  0.41997158]])"
      ]
     },
     "execution_count": 30,
     "metadata": {},
     "output_type": "execute_result"
    }
   ],
   "source": [
    "U"
   ]
  },
  {
   "cell_type": "code",
   "execution_count": 55,
   "metadata": {},
   "outputs": [
    {
     "data": {
      "text/plain": [
       "(15, 1)"
      ]
     },
     "execution_count": 55,
     "metadata": {},
     "output_type": "execute_result"
    }
   ],
   "source": [
    "principalComponents_breast.shape"
   ]
  },
  {
   "cell_type": "code",
   "execution_count": 33,
   "metadata": {},
   "outputs": [
    {
     "data": {
      "text/plain": [
       "{'copy': True,\n",
       " 'iterated_power': 'auto',\n",
       " 'n_components': 1,\n",
       " 'random_state': None,\n",
       " 'svd_solver': 'auto',\n",
       " 'tol': 0.0,\n",
       " 'whiten': False}"
      ]
     },
     "execution_count": 33,
     "metadata": {},
     "output_type": "execute_result"
    }
   ],
   "source": [
    "pca.get_params()"
   ]
  },
  {
   "cell_type": "code",
   "execution_count": 68,
   "metadata": {},
   "outputs": [],
   "source": [
    "predicted = U[:,:1] @ principalComponents_breast.T\n",
    "p = pd.DataFrame(predicted).T"
   ]
  },
  {
   "cell_type": "code",
   "execution_count": 69,
   "metadata": {},
   "outputs": [],
   "source": [
    "from sklearn.metrics import r2_score\n",
    "from sklearn.metrics import mean_squared_error\n",
    "from math import sqrt\n",
    "import numpy as np\n",
    "\n",
    "r2 = r2_score(p,df)\n",
    "rmse = sqrt(mean_squared_error(p, df))"
   ]
  },
  {
   "cell_type": "code",
   "execution_count": 70,
   "metadata": {},
   "outputs": [
    {
     "data": {
      "text/plain": [
       "0.04411887614775731"
      ]
     },
     "execution_count": 70,
     "metadata": {},
     "output_type": "execute_result"
    }
   ],
   "source": [
    "rmse"
   ]
  },
  {
   "cell_type": "code",
   "execution_count": 71,
   "metadata": {
    "scrolled": true
   },
   "outputs": [
    {
     "data": {
      "text/html": [
       "<div>\n",
       "<style scoped>\n",
       "    .dataframe tbody tr th:only-of-type {\n",
       "        vertical-align: middle;\n",
       "    }\n",
       "\n",
       "    .dataframe tbody tr th {\n",
       "        vertical-align: top;\n",
       "    }\n",
       "\n",
       "    .dataframe thead th {\n",
       "        text-align: right;\n",
       "    }\n",
       "</style>\n",
       "<table border=\"1\" class=\"dataframe\">\n",
       "  <thead>\n",
       "    <tr style=\"text-align: right;\">\n",
       "      <th></th>\n",
       "      <th>x</th>\n",
       "      <th>y</th>\n",
       "    </tr>\n",
       "  </thead>\n",
       "  <tbody>\n",
       "    <tr>\n",
       "      <th>0</th>\n",
       "      <td>-0.066</td>\n",
       "      <td>-0.204</td>\n",
       "    </tr>\n",
       "    <tr>\n",
       "      <th>1</th>\n",
       "      <td>-0.124</td>\n",
       "      <td>-0.079</td>\n",
       "    </tr>\n",
       "    <tr>\n",
       "      <th>2</th>\n",
       "      <td>0.259</td>\n",
       "      <td>0.565</td>\n",
       "    </tr>\n",
       "    <tr>\n",
       "      <th>3</th>\n",
       "      <td>0.289</td>\n",
       "      <td>0.607</td>\n",
       "    </tr>\n",
       "    <tr>\n",
       "      <th>4</th>\n",
       "      <td>-0.318</td>\n",
       "      <td>-0.425</td>\n",
       "    </tr>\n",
       "    <tr>\n",
       "      <th>5</th>\n",
       "      <td>-0.015</td>\n",
       "      <td>-0.135</td>\n",
       "    </tr>\n",
       "    <tr>\n",
       "      <th>6</th>\n",
       "      <td>-0.060</td>\n",
       "      <td>0.011</td>\n",
       "    </tr>\n",
       "    <tr>\n",
       "      <th>7</th>\n",
       "      <td>0.140</td>\n",
       "      <td>0.411</td>\n",
       "    </tr>\n",
       "    <tr>\n",
       "      <th>8</th>\n",
       "      <td>0.203</td>\n",
       "      <td>0.350</td>\n",
       "    </tr>\n",
       "    <tr>\n",
       "      <th>9</th>\n",
       "      <td>0.249</td>\n",
       "      <td>0.535</td>\n",
       "    </tr>\n",
       "    <tr>\n",
       "      <th>10</th>\n",
       "      <td>-0.229</td>\n",
       "      <td>-0.668</td>\n",
       "    </tr>\n",
       "    <tr>\n",
       "      <th>11</th>\n",
       "      <td>0.174</td>\n",
       "      <td>0.128</td>\n",
       "    </tr>\n",
       "    <tr>\n",
       "      <th>12</th>\n",
       "      <td>0.149</td>\n",
       "      <td>0.317</td>\n",
       "    </tr>\n",
       "    <tr>\n",
       "      <th>13</th>\n",
       "      <td>-0.343</td>\n",
       "      <td>-0.543</td>\n",
       "    </tr>\n",
       "    <tr>\n",
       "      <th>14</th>\n",
       "      <td>-0.308</td>\n",
       "      <td>-0.870</td>\n",
       "    </tr>\n",
       "  </tbody>\n",
       "</table>\n",
       "</div>"
      ],
      "text/plain": [
       "        x      y\n",
       "0  -0.066 -0.204\n",
       "1  -0.124 -0.079\n",
       "2   0.259  0.565\n",
       "3   0.289  0.607\n",
       "4  -0.318 -0.425\n",
       "5  -0.015 -0.135\n",
       "6  -0.060  0.011\n",
       "7   0.140  0.411\n",
       "8   0.203  0.350\n",
       "9   0.249  0.535\n",
       "10 -0.229 -0.668\n",
       "11  0.174  0.128\n",
       "12  0.149  0.317\n",
       "13 -0.343 -0.543\n",
       "14 -0.308 -0.870"
      ]
     },
     "execution_count": 71,
     "metadata": {},
     "output_type": "execute_result"
    }
   ],
   "source": [
    "df"
   ]
  },
  {
   "cell_type": "code",
   "execution_count": 84,
   "metadata": {
    "scrolled": true
   },
   "outputs": [
    {
     "name": "stdout",
     "output_type": "stream",
     "text": [
      "\\begin{tabular}{lrrrrrrrrrrrrrrr}\n",
      "\\toprule\n",
      "{} &      0 &      1 &      2 &      3 &      4 &      5 &      6 &      7 &      8 &      9 &     10 &     11 &     12 &     13 &     14 \\\\\n",
      "\\midrule\n",
      "x & -0.066 & -0.124 &  0.259 &  0.289 & -0.318 & -0.015 & -0.060 &  0.140 &  0.203 &  0.249 & -0.229 &  0.174 &  0.149 & -0.343 & -0.308 \\\\\n",
      "y & -0.204 & -0.079 &  0.565 &  0.607 & -0.425 & -0.135 &  0.011 &  0.411 &  0.350 &  0.535 & -0.668 &  0.128 &  0.317 & -0.543 & -0.870 \\\\\n",
      "\\bottomrule\n",
      "\\end{tabular}\n",
      "\n"
     ]
    }
   ],
   "source": [
    "print(df.round(4).T.to_latex())"
   ]
  },
  {
   "cell_type": "code",
   "execution_count": 79,
   "metadata": {
    "scrolled": true
   },
   "outputs": [
    {
     "data": {
      "text/plain": [
       "0.01610993578526887"
      ]
     },
     "execution_count": 79,
     "metadata": {},
     "output_type": "execute_result"
    }
   ],
   "source": [
    "s = 0\n",
    "for i in range(15):\n",
    "    s += (df['x'][i] - p[0][i])**2 + (df['y'][i] - p[1][i])**2 \n",
    "np.sqrt(s)/15."
   ]
  },
  {
   "cell_type": "code",
   "execution_count": null,
   "metadata": {},
   "outputs": [],
   "source": []
  }
 ],
 "metadata": {
  "kernelspec": {
   "display_name": "Python 3",
   "language": "python",
   "name": "python3"
  },
  "language_info": {
   "codemirror_mode": {
    "name": "ipython",
    "version": 3
   },
   "file_extension": ".py",
   "mimetype": "text/x-python",
   "name": "python",
   "nbconvert_exporter": "python",
   "pygments_lexer": "ipython3",
   "version": "3.7.6"
  }
 },
 "nbformat": 4,
 "nbformat_minor": 4
}
